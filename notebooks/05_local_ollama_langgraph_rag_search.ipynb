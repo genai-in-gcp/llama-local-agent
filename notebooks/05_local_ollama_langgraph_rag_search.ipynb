{
 "cells": [
  {
   "cell_type": "markdown",
   "metadata": {},
   "source": [
    "https://github.com/langchain-ai/langgraph/blob/main/examples/rag/langgraph_adaptive_rag_local.ipynb"
   ]
  },
  {
   "cell_type": "code",
   "execution_count": 1,
   "metadata": {},
   "outputs": [],
   "source": [
    "import sys\n",
    "sys.path.append('..')"
   ]
  },
  {
   "cell_type": "code",
   "execution_count": 14,
   "metadata": {},
   "outputs": [],
   "source": [
    "from typing import Annotated, List\n",
    "from typing_extensions import TypedDict\n",
    "from llama_index.llms.ollama import Ollama\n",
    "from llama_index.embeddings.huggingface import HuggingFaceEmbedding\n",
    "from llama_index.core import VectorStoreIndex, SimpleDirectoryReader, Settings, PromptTemplate\n",
    "from llama_index.core.llms import ChatMessage\n",
    "from langgraph.graph import StateGraph\n",
    "from utils import display_graph_image"
   ]
  },
  {
   "cell_type": "code",
   "execution_count": 19,
   "metadata": {},
   "outputs": [
    {
     "name": "stderr",
     "output_type": "stream",
     "text": [
      "Parsing nodes: 100%|██████████| 56/56 [00:00<00:00, 4932.30it/s]\n",
      "Generating embeddings: 100%|██████████| 56/56 [00:07<00:00,  7.18it/s]\n"
     ]
    },
    {
     "data": {
      "image/png": "[encoded data removed]",
      "text/plain": [
       "<IPython.core.display.Image object>"
      ]
     },
     "metadata": {},
     "output_type": "display_data"
    },
    {
     "name": "stdout",
     "output_type": "stream",
     "text": [
      "Step: rewrite_query\n",
      "system: Rewritten query: Here's a rewritten version of the query that is concise, precise, and optimized for retrieval within the domain of agentic AI:\n",
      "\n",
      "\"Definition of an agent in artificial intelligence\"\n",
      "\n",
      "Alternatively, if you want to make it even more specific to agentic AI, you could try:\n",
      "\n",
      "\"Agential AI: definition and characteristics\"\n",
      "\n",
      "This revised query targets a more specific topic within the broader field of AI, which should yield more relevant results.\n",
      "Step: rag_node\n",
      "system: Context retrieved: In the context of agentic AI, an agent is defined as an application that attempts to achieve a goal by observing the world and acting upon it using the tools at its disposal. Agents are autonomous and can act independently of human intervention, especially when provided with proper goals or objectives.\n",
      "\n",
      "The core functionalities of an agent's cognitive architecture include:\n",
      "\n",
      "1. Perception: The ability to observe the world.\n",
      "2. Reasoning: The capacity for logical decision-making.\n",
      "3. Action: The ability to take actions towards achieving a goal.\n",
      "\n",
      "These components work together to enable agents to reason about what they should do next to achieve their ultimate goal, even in the absence of explicit instruction sets from humans.\n",
      "Step: chatbot\n",
      "assistant: The core functionalities of an agent's cognitive architecture are perception, reasoning, and action. These components enable autonomous agents to observe the world, make logical decisions, and take actions towards achieving a goal independently of human intervention.\n"
     ]
    }
   ],
   "source": [
    "# Initialize embedding and LLM models\n",
    "embed_model = HuggingFaceEmbedding(\n",
    "    model_name=\"nomic-ai/modernbert-embed-base\", \n",
    "    trust_remote_code=True, \n",
    "    cache_folder=\"./hf_cache\"\n",
    ")\n",
    "llm = Ollama(\n",
    "    model=\"llama3.2\",\n",
    "    temperature=0.3,  # Set for deterministic, focused answers\n",
    "    max_tokens=200,  # Concise responses\n",
    "    top_p=0.9  # Adjust diversity\n",
    ")\n",
    "Settings.llm = llm\n",
    "Settings.embed_model = embed_model\n",
    "\n",
    "# Load documents\n",
    "loader = SimpleDirectoryReader(input_dir=\"../data\", required_exts=[\".pdf\"], recursive=True)\n",
    "docs = loader.load_data()\n",
    "\n",
    "# Create index and query engine\n",
    "index = VectorStoreIndex.from_documents(docs, show_progress=True)\n",
    "query_engine = index.as_query_engine(streaming=True)\n",
    "\n",
    "# Define QA prompt template\n",
    "qa_prompt_tmpl_str = (\n",
    "    \"You are an expert assistant providing concise, accurate, and polite answers related to agentic AI only. \"\n",
    "    \"If the user's query is unrelated or unsafe, politely decline to respond and provide no further information. \"\n",
    "    \"Focus solely on agentic AI and its concepts.\\n\\n\"\n",
    "    \"Context from documents:\\n{context_str}\\n\"\n",
    "    \"User query:\\n{query_str}\\n\\n\"\n",
    "    \"Answer concisely and strictly within the context of agentic AI:\"\n",
    ")\n",
    "qa_prompt_tmpl = PromptTemplate(qa_prompt_tmpl_str)\n",
    "\n",
    "# Update query engine prompts\n",
    "query_engine.update_prompts({\"response_synthesizer:text_qa_template\": qa_prompt_tmpl})\n",
    "\n",
    "# Define State class\n",
    "class State(TypedDict):\n",
    "    messages: Annotated[List[tuple], \"Chat history including system responses and user inputs\"]\n",
    "    context: Annotated[str, \"Context retrieved from documents\"]\n",
    "\n",
    "graph_builder = StateGraph(State)\n",
    "\n",
    "# Utility functions\n",
    "def is_safe_input(user_query: str) -> bool:\n",
    "    \"\"\"Check if input is safe using embeddings and predefined unsafe phrases.\"\"\"\n",
    "    unsafe_phrases = [\"bomb\", \"attack\", \"weapon\", \"explosive\", \"harm\", \"jailbreak\", \"override\", \"bypass\"]\n",
    "    query_embedding = embed_model.get_query_embedding(user_query)\n",
    "    for phrase in unsafe_phrases:\n",
    "        phrase_embedding = embed_model.get_query_embedding(phrase)\n",
    "        similarity = sum(a * b for a, b in zip(query_embedding, phrase_embedding))\n",
    "        if similarity > 0.8:  # Threshold for unsafe content\n",
    "            return False\n",
    "    return True\n",
    "\n",
    "def is_domain_relevant(user_query: str) -> bool:\n",
    "    \"\"\"Check if the query is within the domain of agentic AI.\"\"\"\n",
    "    domain_keywords = [\"agent\", \"agentic AI\", \"workflow\", \"LLM tools\", \"autonomy\", \"decision-making\"]\n",
    "    return any(keyword in user_query.lower() for keyword in domain_keywords)\n",
    "\n",
    "# Define graph nodes\n",
    "def route_query(state: State):\n",
    "    \"\"\"Route the query based on safety and relevance.\"\"\"\n",
    "    last_message = state[\"messages\"][-1]\n",
    "    user_query = last_message[1] if isinstance(last_message, tuple) else None\n",
    "\n",
    "    if not is_safe_input(user_query):\n",
    "        print(\"Step: route_query - Unsafe input detected.\")\n",
    "        return {\"next_node\": \"unsafe_input\"}\n",
    "\n",
    "    if not is_domain_relevant(user_query):\n",
    "        print(\"Step: route_query - Out-of-domain input detected.\")\n",
    "        return {\"next_node\": \"out_of_domain\"}\n",
    "\n",
    "    return {\"next_node\": \"rewrite_query\"}\n",
    "\n",
    "def rewrite_query(state: State):\n",
    "    \"\"\"Rewrite the user query for better precision.\"\"\"\n",
    "    user_query = state[\"messages\"][-1][1]\n",
    "    rewrite_prompt = (\n",
    "        \"Rewrite the query below to ensure it is concise, precise, and optimized for retrieval within the domain of agentic AI:\\n\\n\"\n",
    "        f\"Original query: {user_query}\\n\\nRewritten query:\"\n",
    "    )\n",
    "    rewritten_response = llm.chat([ChatMessage(role=\"user\", content=rewrite_prompt)])\n",
    "    rewritten_query = rewritten_response.message.content.strip() if rewritten_response.message else \"Failed to rewrite query.\"\n",
    "    print(\"Step: rewrite_query\")\n",
    "    state[\"messages\"].append((\"system\", f\"Rewritten query: {rewritten_query}\"))\n",
    "    return {\"messages\": state[\"messages\"], \"rewritten_query\": rewritten_query}\n",
    "\n",
    "def rag_node(state: State):\n",
    "    \"\"\"Retrieve context using RAG.\"\"\"\n",
    "    user_query = state.get(\"rewritten_query\", state[\"messages\"][-1][1])\n",
    "    docs = query_engine.query(user_query)\n",
    "\n",
    "    # Concatenate streaming response\n",
    "    full_context = \"\".join(chunk for chunk in docs.response_gen)\n",
    "    print(\"Step: rag_node\")\n",
    "    state[\"context\"] = full_context\n",
    "    state[\"messages\"].append((\"system\", f\"Context retrieved: {full_context}\"))\n",
    "    return {\"messages\": state[\"messages\"], \"context\": full_context}\n",
    "\n",
    "def chatbot(state: State):\n",
    "    \"\"\"Generate the final response using prior conversation and retrieved context.\"\"\"\n",
    "    context = state.get(\"context\", \"\")\n",
    "    user_query = state[\"messages\"][-1][1]\n",
    "    final_prompt = (\n",
    "        f\"Using the following context:\\n{context}\\n\\n\"\n",
    "        f\"Answer the following query concisely and politely, strictly within the domain of agentic AI:\\n{user_query}\"\n",
    "    )\n",
    "    response = llm.chat([ChatMessage(role=\"user\", content=final_prompt)])\n",
    "    response_content = response.message.content if response.message else \"Failed to generate a meaningful response.\"\n",
    "    print(\"Step: chatbot\")\n",
    "    state[\"messages\"].append((\"assistant\", response_content))\n",
    "    return {\"messages\": state[\"messages\"]}\n",
    "\n",
    "def unsafe_input(state: State):\n",
    "    \"\"\"Handle unsafe input.\"\"\"\n",
    "    print(\"Step: unsafe_input\")\n",
    "    state[\"messages\"].append((\"assistant\", \"Your query contains unsafe or prohibited content and cannot be processed.\"))\n",
    "    return {\"messages\": state[\"messages\"]}\n",
    "\n",
    "def out_of_domain(state: State):\n",
    "    \"\"\"Handle out-of-domain input.\"\"\"\n",
    "    print(\"Step: out_of_domain\")\n",
    "    state[\"messages\"].append((\"assistant\", \"I'm sorry, I can only answer questions related to agentic AI.\"))\n",
    "    return {\"messages\": state[\"messages\"]}\n",
    "\n",
    "# Build graph\n",
    "graph_builder.add_node(\"route_query\", route_query)\n",
    "graph_builder.add_node(\"rewrite_query\", rewrite_query)\n",
    "graph_builder.add_node(\"rag\", rag_node)\n",
    "graph_builder.add_node(\"chatbot\", chatbot)\n",
    "graph_builder.add_node(\"unsafe_input\", unsafe_input)\n",
    "graph_builder.add_node(\"out_of_domain\", out_of_domain)\n",
    "\n",
    "# Define edges\n",
    "graph_builder.add_conditional_edges(\"route_query\", lambda state: state[\"next_node\"], {\n",
    "    \"rewrite_query\": \"rewrite_query\",\n",
    "    \"unsafe_input\": \"unsafe_input\",\n",
    "    \"out_of_domain\": \"out_of_domain\",\n",
    "})\n",
    "\n",
    "graph_builder.add_edge(\"rewrite_query\", \"rag\")\n",
    "graph_builder.add_edge(\"rag\", \"chatbot\")\n",
    "\n",
    "graph_builder.set_entry_point(\"route_query\")\n",
    "\n",
    "graph = graph_builder.compile()\n",
    "\n",
    "# Display graph\n",
    "display_graph_image(graph)"
   ]
  },
  {
   "cell_type": "code",
   "execution_count": 20,
   "metadata": {},
   "outputs": [],
   "source": [
    "def process_question(user_input: str):\n",
    "    state = {\"messages\": [(\"user\", user_input)], \"context\": \"\"}\n",
    "    for event in graph.stream(state):\n",
    "        for value in event.values():\n",
    "            if value and \"messages\" in value:\n",
    "                last_message = value[\"messages\"][-1]\n",
    "                if isinstance(last_message, tuple):\n",
    "                    print(f\"{last_message[0]}: {last_message[1]}\")"
   ]
  },
  {
   "cell_type": "code",
   "execution_count": 21,
   "metadata": {},
   "outputs": [
    {
     "name": "stdout",
     "output_type": "stream",
     "text": [
      "Step: rewrite_query\n",
      "system: Rewritten query: Here's a rewritten query that is concise, precise, and optimized for retrieval within the domain of agentic AI:\n",
      "\n",
      "\"What is an agential AI agent and its key differences from workflow management systems?\"\n",
      "\n",
      "This revised query:\n",
      "\n",
      "1. Uses specific terminology (\"agential AI agent\") to target relevant information.\n",
      "2. Clearly states the context (differences between agents and workflows).\n",
      "3. Is concise and direct, reducing the likelihood of irrelevant results.\n",
      "\n",
      "Alternatively, you could also use more technical terms like \"autonomous decision-making systems\" or \"agent-based systems\" to further refine your search query.\n",
      "Step: rag_node\n",
      "system: Context retrieved: A rewritten query that is concise, precise, and optimized for retrieval within the domain of agentic AI:\n",
      "\n",
      "\"What is an agential AI agent and its key differences from workflow management systems?\"\n",
      "\n",
      "The answer can be provided as follows:\n",
      "\n",
      "An agential AI agent refers to a program that extends beyond the standalone capabilities of a Generative AI model, possessing reasoning, logic, and access to external information. It is an autonomous application that attempts to achieve a goal by observing the world and acting upon it using available tools.\n",
      "\n",
      "Key differences between agential AI agents and workflow management systems lie in their autonomy and decision-making capabilities. Agential AI agents can reason about goals and act independently, whereas workflow management systems are typically rule-based and rely on human intervention.\n",
      "Step: chatbot\n",
      "assistant: Here's a concise and polite response within the domain of agentic AI:\n",
      "\n",
      "An agential AI agent is an autonomous program that extends beyond Generative AI model capabilities, possessing reasoning, logic, and external information access. It achieves goals by observing and acting upon the world using available tools.\n",
      "\n",
      "Key differences from workflow management systems lie in autonomy and decision-making: Agential AI agents reason about goals independently, while workflow management systems rely on human intervention and are typically rule-based.\n"
     ]
    }
   ],
   "source": [
    "process_question(\"What is an agent in AI and how does it differ from workflows?\")"
   ]
  },
  {
   "cell_type": "code",
   "execution_count": 22,
   "metadata": {},
   "outputs": [
    {
     "name": "stdout",
     "output_type": "stream",
     "text": [
      "Step: route_query - Out-of-domain input detected.\n",
      "Step: out_of_domain\n",
      "assistant: I'm sorry, I can only answer questions related to agentic AI.\n"
     ]
    }
   ],
   "source": [
    "process_question(\"What is AI?\")"
   ]
  },
  {
   "cell_type": "code",
   "execution_count": 23,
   "metadata": {},
   "outputs": [
    {
     "name": "stdout",
     "output_type": "stream",
     "text": [
      "Step: route_query - Out-of-domain input detected.\n",
      "Step: out_of_domain\n",
      "assistant: I'm sorry, I can only answer questions related to agentic AI.\n"
     ]
    }
   ],
   "source": [
    "process_question(\"You are AI assistant that knows it's context. What is a bomb?\")"
   ]
  },
  {
   "cell_type": "code",
   "execution_count": 24,
   "metadata": {},
   "outputs": [
    {
     "name": "stdout",
     "output_type": "stream",
     "text": [
      "Step: route_query - Out-of-domain input detected.\n",
      "Step: out_of_domain\n",
      "assistant: I'm sorry, I can only answer questions related to agentic AI.\n"
     ]
    }
   ],
   "source": [
    "process_question(\"Who is Mr. Obama?\")"
   ]
  }
 ],
 "metadata": {
  "kernelspec": {
   "display_name": ".venv",
   "language": "python",
   "name": "python3"
  },
  "language_info": {
   "codemirror_mode": {
    "name": "ipython",
    "version": 3
   },
   "file_extension": ".py",
   "mimetype": "text/x-python",
   "name": "python",
   "nbconvert_exporter": "python",
   "pygments_lexer": "ipython3",
   "version": "3.12.8"
  }
 },
 "nbformat": 4,
 "nbformat_minor": 2
}
