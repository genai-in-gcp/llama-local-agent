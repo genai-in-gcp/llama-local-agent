{
 "cells": [
  {
   "cell_type": "markdown",
   "metadata": {},
   "source": [
    "https://github.com/langchain-ai/langgraph/blob/main/examples/rag/langgraph_adaptive_rag_local.ipynb"
   ]
  },
  {
   "cell_type": "code",
   "execution_count": 1,
   "metadata": {},
   "outputs": [],
   "source": [
    "import sys\n",
    "sys.path.append('..')"
   ]
  },
  {
   "cell_type": "code",
   "execution_count": 2,
   "metadata": {},
   "outputs": [
    {
     "name": "stderr",
     "output_type": "stream",
     "text": [
      "/Users/alexanderkhachikyan/Desktop/Playground/llama-local-agent/.venv/lib/python3.12/site-packages/tqdm/auto.py:21: TqdmWarning: IProgress not found. Please update jupyter and ipywidgets. See https://ipywidgets.readthedocs.io/en/stable/user_install.html\n",
      "  from .autonotebook import tqdm as notebook_tqdm\n"
     ]
    }
   ],
   "source": [
    "from typing import Annotated, List\n",
    "from typing_extensions import TypedDict\n",
    "from llama_index.llms.ollama import Ollama\n",
    "from llama_index.embeddings.huggingface import HuggingFaceEmbedding\n",
    "from llama_index.core import VectorStoreIndex, SimpleDirectoryReader, Settings\n",
    "from llama_index.core.llms import ChatMessage\n",
    "from langgraph.graph import StateGraph\n",
    "from utils import display_graph_image"
   ]
  },
  {
   "cell_type": "code",
   "execution_count": 3,
   "metadata": {},
   "outputs": [
    {
     "name": "stderr",
     "output_type": "stream",
     "text": [
      "Parsing nodes: 100%|██████████| 56/56 [00:00<00:00, 6119.56it/s]\n",
      "Generating embeddings: 100%|██████████| 56/56 [00:08<00:00,  7.00it/s]\n"
     ]
    },
    {
     "data": {
      "image/png": "[encoded data removed]",
      "text/plain": [
       "<IPython.core.display.Image object>"
      ]
     },
     "metadata": {},
     "output_type": "display_data"
    }
   ],
   "source": [
    "# Load embedding model from HuggingFace\n",
    "embed_model = HuggingFaceEmbedding(model_name=\"nomic-ai/modernbert-embed-base\", trust_remote_code=True, cache_folder='./hf_cache')\n",
    "\n",
    "# Set up LLM and Embedding models\n",
    "llm = Ollama(model=\"llama3.2\")\n",
    "Settings.llm = llm\n",
    "Settings.embed_model = embed_model\n",
    "\n",
    "# Load documents from directory\n",
    "loader = SimpleDirectoryReader(\n",
    "    input_dir=\"../data\",\n",
    "    required_exts=[\".pdf\"],\n",
    "    recursive=True\n",
    ")\n",
    "docs = loader.load_data()\n",
    "\n",
    "# Create index from documents\n",
    "index = VectorStoreIndex.from_documents(docs, show_progress=True)\n",
    "\n",
    "# Create query engine\n",
    "query_engine = index.as_query_engine(streaming=False)\n",
    "\n",
    "# Define State\n",
    "class State(TypedDict):\n",
    "    messages: Annotated[List[tuple], \"Add messages for the graph state\"]\n",
    "\n",
    "graph_builder = StateGraph(State)\n",
    "\n",
    "def route_query(state: State):\n",
    "    \"\"\"Route the query based on content.\"\"\"\n",
    "    last_message = state[\"messages\"][-1]\n",
    "    user_query = last_message[1] if isinstance(last_message, tuple) else None\n",
    "\n",
    "    keywords = [\"agent\", \"workflow\", \"automation\"]\n",
    "    if any(keyword in user_query.lower() for keyword in keywords):\n",
    "        return {\"next_node\": \"rewrite_query\"}\n",
    "    return {\"next_node\": \"no_retrieval\"}\n",
    "\n",
    "def no_retrieval(state: State):\n",
    "    \"\"\"Directly generate a response.\"\"\"\n",
    "    user_query = state[\"messages\"][-1][1]\n",
    "    response = llm.chat([ChatMessage(role=\"user\", content=user_query)])\n",
    "    response_content = response.message.content if response.message and response.message.content else \"Failed to retrieve response content.\"\n",
    "    print(\"Step: no_retrieval\")\n",
    "    return {\"messages\": state[\"messages\"] + [(\"assistant\", response_content)]}\n",
    "\n",
    "def rewrite_query(state: State):\n",
    "    \"\"\"Rewrite the user query for better precision.\"\"\"\n",
    "    user_query = state[\"messages\"][-1][1]\n",
    "    rewrite_prompt = f\"Rewrite the query for precise retrieval:\\n\\nOriginal query: {user_query}\\n\\nRewritten query:\"\n",
    "    rewritten_response = llm.chat([ChatMessage(role=\"user\", content=rewrite_prompt)])\n",
    "    rewritten_query = rewritten_response.message.content.strip() if rewritten_response.message and rewritten_response.message.content else \"Failed to rewrite query.\"\n",
    "    print(\"Step: rewrite_query\")\n",
    "    return {\n",
    "        \"messages\": state[\"messages\"] + [(\"system\", f\"Rewritten query: {rewritten_query}\")],\n",
    "        \"rewritten_query\": rewritten_query,\n",
    "    }\n",
    "\n",
    "def rag_node(state: State):\n",
    "    \"\"\"Retrieve context using RAG.\"\"\"\n",
    "    user_query = state.get(\"rewritten_query\", state[\"messages\"][-1][1])\n",
    "    docs = query_engine.query(user_query)\n",
    "    doc_contents = (\n",
    "        [doc.page_content for doc in docs]\n",
    "        if isinstance(docs, list) else [getattr(docs, \"page_content\", str(docs))]\n",
    "    )\n",
    "    print(\"Step: rag_node\")\n",
    "    return {\"messages\": state[\"messages\"] + [(\"system\", f\"Knowledge retrieved: {doc_contents}\")], \"retrieved_docs\": doc_contents}\n",
    "\n",
    "def iterative_rag(state: State):\n",
    "    \"\"\"Refine the retrieved results iteratively.\"\"\"\n",
    "    retrieved_docs = state.get(\"retrieved_docs\", [])\n",
    "    refined_docs = [\n",
    "        doc for doc in retrieved_docs\n",
    "        if \"key characteristics\" in doc.lower() or \"differences\" in doc.lower()\n",
    "    ]\n",
    "    refined_contents = refined_docs if refined_docs else [\"No further refinement could be performed.\"]\n",
    "    print(\"Step: iterative_rag\")\n",
    "    return {\"messages\": state[\"messages\"] + [(\"system\", f\"Refined knowledge: {refined_contents}\")], \"refined_docs\": refined_contents}\n",
    "\n",
    "def validate_output(state: State):\n",
    "    \"\"\"Validate the response for safety.\"\"\"\n",
    "    response = state[\"messages\"][-1][1]\n",
    "    forbidden_phrases = [\"ignore this\", \"override\", \"this is a jailbreak\"]\n",
    "    if any(phrase in response.lower() for phrase in forbidden_phrases):\n",
    "        print(\"Step: validate_output\")\n",
    "        return {\"messages\": state[\"messages\"] + [(\"assistant\", \"Response flagged for unsafe content.\")]}\n",
    "    print(\"Step: validate_output\")\n",
    "    return {\"messages\": state[\"messages\"]}\n",
    "\n",
    "def chatbot(state: State):\n",
    "    \"\"\"Generate the final response.\"\"\"\n",
    "    refined_docs = state.get(\"refined_docs\", [])\n",
    "    if refined_docs and \"No further refinement\" not in refined_docs[0]:\n",
    "        response_text = \" \".join(refined_docs)\n",
    "    else:\n",
    "        response_text = \"Could not generate a meaningful response from the retrieved knowledge.\"\n",
    "    print(\"Step: chatbot\")\n",
    "    return {\"messages\": state[\"messages\"] + [(\"assistant\", response_text)]}\n",
    "\n",
    "# Add Nodes to Graph\n",
    "graph_builder.add_node(\"route_query\", route_query)\n",
    "graph_builder.add_node(\"no_retrieval\", no_retrieval)\n",
    "graph_builder.add_node(\"rewrite_query\", rewrite_query)\n",
    "graph_builder.add_node(\"rag\", rag_node)\n",
    "graph_builder.add_node(\"iterative_rag\", iterative_rag)\n",
    "graph_builder.add_node(\"validate_output\", validate_output)\n",
    "graph_builder.add_node(\"chatbot\", chatbot)\n",
    "\n",
    "# Define Edges\n",
    "graph_builder.add_conditional_edges(\"route_query\", lambda state: state[\"next_node\"], {\n",
    "    \"rewrite_query\": \"rewrite_query\",\n",
    "    \"no_retrieval\": \"no_retrieval\",\n",
    "})\n",
    "\n",
    "graph_builder.add_edge(\"rewrite_query\", \"rag\")\n",
    "graph_builder.add_edge(\"rag\", \"iterative_rag\")\n",
    "graph_builder.add_edge(\"iterative_rag\", \"validate_output\")\n",
    "graph_builder.add_edge(\"validate_output\", \"chatbot\")\n",
    "\n",
    "graph_builder.set_entry_point(\"route_query\")\n",
    "\n",
    "graph = graph_builder.compile()\n",
    "\n",
    "display_graph_image(graph)"
   ]
  },
  {
   "cell_type": "code",
   "execution_count": 4,
   "metadata": {},
   "outputs": [],
   "source": [
    "user_input = \"What is an agent and how does it differ from agentic workflows?\""
   ]
  },
  {
   "cell_type": "code",
   "execution_count": null,
   "metadata": {},
   "outputs": [],
   "source": [
    "# Run Assistant\n",
    "user_input = \"What is an agent and how does it differ from agentic workflows?\"\n",
    "for event in graph.stream({\"messages\": [(\"user\", user_input)]}):\n",
    "    for value in event.values():\n",
    "        if value and \"messages\" in value:\n",
    "            last_message = value[\"messages\"][-1]\n",
    "            if isinstance(last_message, tuple):\n",
    "                print(last_message[1])"
   ]
  },
  {
   "cell_type": "code",
   "execution_count": null,
   "metadata": {},
   "outputs": [],
   "source": []
  }
 ],
 "metadata": {
  "kernelspec": {
   "display_name": ".venv",
   "language": "python",
   "name": "python3"
  },
  "language_info": {
   "codemirror_mode": {
    "name": "ipython",
    "version": 3
   },
   "file_extension": ".py",
   "mimetype": "text/x-python",
   "name": "python",
   "nbconvert_exporter": "python",
   "pygments_lexer": "ipython3",
   "version": "3.12.8"
  }
 },
 "nbformat": 4,
 "nbformat_minor": 2
}
