{
 "cells": [
  {
   "cell_type": "code",
   "execution_count": 2,
   "metadata": {},
   "outputs": [],
   "source": [
    "from IPython.display import Markdown"
   ]
  },
  {
   "cell_type": "markdown",
   "metadata": {},
   "source": [
    "## Local LLM (llama3.2 - just 3B parameters) with LlamaIndex"
   ]
  },
  {
   "cell_type": "code",
   "execution_count": 3,
   "metadata": {},
   "outputs": [
    {
     "data": {
      "text/markdown": [
       "The Riemann Hypothesis is a math problem that deals with prime numbers. Here's a simplified explanation:\n",
       "\n",
       "**What is it?**: The Riemann Hypothesis states that all non-trivial zeros of the Riemann zeta function lie on a vertical line in the complex plane.\n",
       "\n",
       "**In simple terms**: Imagine you have a special number called Zeta (ζ), and its value depends on how many prime numbers are less than or equal to a certain number. The Hypothesis says that for any non-trivial zero of this Zeta function, there's a special point where all zeros lie together.\n",
       "\n",
       "**Why is it important?**: Solving the Riemann Hypothesis has implications in cryptography (secure online transactions), coding theory, and many other areas of mathematics.\n",
       "\n",
       "That's the essence of the Riemann Hypothesis!"
      ],
      "text/plain": [
       "<IPython.core.display.Markdown object>"
      ]
     },
     "execution_count": 3,
     "metadata": {},
     "output_type": "execute_result"
    }
   ],
   "source": [
    "#!pip install llama-index-llms-ollama\n",
    "from llama_index.llms.ollama import Ollama\n",
    "\n",
    "llm = Ollama(model=\"llama3.2\", request_timeout=120.0)\n",
    "resp = llm.complete(\"Explain Riemann hypothesis in simple words, be concise?\")\n",
    "\n",
    "Markdown(resp.text)"
   ]
  },
  {
   "cell_type": "markdown",
   "metadata": {},
   "source": [
    "## Local LLM (llama3.2 - just 3B parameters) with LangChain"
   ]
  },
  {
   "cell_type": "code",
   "execution_count": 5,
   "metadata": {},
   "outputs": [
    {
     "data": {
      "text/markdown": [
       "The Riemann Hypothesis is a famous problem in mathematics that deals with prime numbers. In simple words:\n",
       "\n",
       "**Statement:** There's a pattern to how prime numbers (numbers that can't be divided evenly by others) are distributed among the integers (whole numbers).\n",
       "\n",
       "**Question:** Can we prove this pattern?\n",
       "\n",
       "In essence, it's a question about whether all prime numbers follow a predictable pattern, and if so, what that pattern is."
      ],
      "text/plain": [
       "<IPython.core.display.Markdown object>"
      ]
     },
     "execution_count": 5,
     "metadata": {},
     "output_type": "execute_result"
    }
   ],
   "source": [
    "from langchain_ollama import ChatOllama\n",
    "\n",
    "llm = ChatOllama(model=\"llama3.2\")\n",
    "messages = [\n",
    "    (\"human\", \"Explain Riemann hypothesis in simple words, be concise?\"),\n",
    "]\n",
    "resp = llm.invoke(messages)\n",
    "Markdown(resp.content)"
   ]
  },
  {
   "cell_type": "code",
   "execution_count": null,
   "metadata": {},
   "outputs": [],
   "source": []
  }
 ],
 "metadata": {
  "kernelspec": {
   "display_name": ".venv",
   "language": "python",
   "name": "python3"
  },
  "language_info": {
   "codemirror_mode": {
    "name": "ipython",
    "version": 3
   },
   "file_extension": ".py",
   "mimetype": "text/x-python",
   "name": "python",
   "nbconvert_exporter": "python",
   "pygments_lexer": "ipython3",
   "version": "3.12.8"
  }
 },
 "nbformat": 4,
 "nbformat_minor": 2
}
